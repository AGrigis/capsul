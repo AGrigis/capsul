{
 "metadata": {
  "name": "CAPSUL API",
  "signature": "sha256:357da4758707b410ea80440cc3b0cd0383a0cba95cf53b60308a11b38eb90e58"
 },
 "nbformat": 3,
 "nbformat_minor": 0,
 "worksheets": [
  {
   "cells": [
    {
     "cell_type": "markdown",
     "metadata": {},
     "source": "<h1>Process and pipeline creation API</h1>\n<p>Documentation: <a href=\"http://neurospin.github.io/capsul\">http://neurospin.github.io/capsul</a>\n</p>\n<p>The following examples are using CAPSUL, and PyQt (or PySide). To get the GUI running in a non-blocking way, the IPython notebook should be started with the option <tt>--gui=qt</tt>:\n<pre>ipython notebook --gui=qt</pre>\nOtherwise calls to the Qt loop will be blocking until windows are closed at each demo step.\n</p>\n<h2>Process and parameters</h2>"
    },
    {
     "cell_type": "code",
     "collapsed": false,
     "input": "# Capsul import\nfrom capsul.process import Process\n\n# Trait import\nfrom traits.api import Float\n\nclass Process1(Process):\n    f = Float(output=False)\n\n    def __init__(self):\n        super(Process1, self).__init__()\n        self.add_trait(\"ff\", Float(output=False))\n        self.add_trait(\"out\", Float(output=True))\n        \n    def _run_process(self):\n        print 'Process1 execution, f:', self.f, ', ff:', self.ff, ', out:', self.out\n        return 0\n\nprocess = Process1()\nprint process.user_traits().keys()\n\nprocess.ff = 132.6\nprocess.f = 13.3\n\n#execution\nprocess()",
     "language": "python",
     "metadata": {},
     "outputs": [
      {
       "output_type": "stream",
       "stream": "stdout",
       "text": "['f', 'ff', 'out']\nProcess1 execution, f: 13.3 , ff: 132.6 , out: 0.0\n"
      },
      {
       "metadata": {},
       "output_type": "pyout",
       "prompt_number": 1,
       "text": "<capsul.process.process.ProcessResult at 0x7f17fd19c310>"
      }
     ],
     "prompt_number": 1
    },
    {
     "cell_type": "code",
     "collapsed": false,
     "input": "from traits.api import Str\n\nclass Process2(Process):\n    \n    def __init__(self):\n        super(Process2, self).__init__()\n        self.add_trait(\"a\", Float(output=True))\n        self.add_trait(\"b\", Str(output=False))\n        \n    def _run_process(self):\n        print \"Process2 executuion, a:\", self.a, \", b:\", self.b",
     "language": "python",
     "metadata": {},
     "outputs": [],
     "prompt_number": 2
    },
    {
     "cell_type": "heading",
     "level": 2,
     "metadata": {},
     "source": "Pipeline"
    },
    {
     "cell_type": "code",
     "collapsed": false,
     "input": "from capsul.pipeline import Pipeline\n\nclass Pipeline1(Pipeline):\n\n    def pipeline_definition(self):\n        # Create processes\n        self.add_process(\"node1\", Process1())\n        self.add_process(\"node2\", Process2())\n        \npipeline1 = Pipeline1()",
     "language": "python",
     "metadata": {},
     "outputs": [],
     "prompt_number": 3
    },
    {
     "cell_type": "heading",
     "level": 2,
     "metadata": {},
     "source": "Viewing / debugging a pipeline"
    },
    {
     "cell_type": "heading",
     "level": 3,
     "metadata": {},
     "source": "Pipeline structure"
    },
    {
     "cell_type": "code",
     "collapsed": false,
     "input": "import sys\nfrom soma.qt_gui import qt_backend\nqt_backend.set_qt_backend('PyQt4')\nfrom soma.qt_gui.qt_backend import QtGui\nfrom capsul.qt_gui.widgets import PipelineDevelopperView\n\nrun_qt_loop = False\nif QtGui.QApplication.instance() is None:\n    app = QtGui.QApplication(sys.argv)\n    run_qt_loop = True\nelse:\n    app = QtGui.QApplication.instance()\nview1 = PipelineDevelopperView(pipeline1)\nview1.show()\nif run_qt_loop:\n    print 'close window to gon on...'\n    app.exec_()",
     "language": "python",
     "metadata": {},
     "outputs": [
      {
       "output_type": "stream",
       "stream": "stderr",
       "text": "WARNING:root:API 'QString' has already been set to version 1\n"
      },
      {
       "output_type": "stream",
       "stream": "stderr",
       "text": "WARNING:root:API 'QVariant' has already been set to version 1\n"
      },
      {
       "output_type": "stream",
       "stream": "stderr",
       "text": "WARNING:root:API 'QDate' has already been set to version 1\n"
      },
      {
       "output_type": "stream",
       "stream": "stderr",
       "text": "WARNING:root:API 'QDateTime' has already been set to version 1\n"
      },
      {
       "output_type": "stream",
       "stream": "stderr",
       "text": "WARNING:root:API 'QTextStream' has already been set to version 1\n"
      },
      {
       "output_type": "stream",
       "stream": "stderr",
       "text": "WARNING:root:API 'QTime' has already been set to version 1\n"
      },
      {
       "output_type": "stream",
       "stream": "stderr",
       "text": "WARNING:root:API 'QUrl' has already been set to version 1\n"
      }
     ],
     "prompt_number": 4
    },
    {
     "cell_type": "heading",
     "level": 3,
     "metadata": {},
     "source": "Entering parameters"
    },
    {
     "cell_type": "code",
     "collapsed": false,
     "input": "from capsul.qt_gui.controller_widget import ControllerWidget\n\ncontroller1 = ControllerWidget(pipeline1, live=True)\ncontroller1.show()\nif run_qt_loop:\n    app.exec_()",
     "language": "python",
     "metadata": {},
     "outputs": [],
     "prompt_number": 5
    },
    {
     "cell_type": "heading",
     "level": 2,
     "metadata": {},
     "source": "Links and exportations"
    },
    {
     "cell_type": "code",
     "collapsed": false,
     "input": "class Pipeline2(Pipeline):\n\n    def pipeline_definition(self):\n        # Create processes\n        self.add_process(\"node1\", Process1())\n        self.add_process(\"node2\", Process2())\n        # links\n        self.add_link('node2.a->node1.ff')\n        # custom exports\n        self.export_parameter(\"node2\", \"b\", \"node_string\")",
     "language": "python",
     "metadata": {},
     "outputs": [],
     "prompt_number": 6
    },
    {
     "cell_type": "code",
     "collapsed": false,
     "input": "pipeline2 = Pipeline2()\nview2 = PipelineDevelopperView(pipeline2)\nview2.show()\nif run_qt_loop:\n    app.exec_()",
     "language": "python",
     "metadata": {},
     "outputs": [],
     "prompt_number": 7
    },
    {
     "cell_type": "code",
     "collapsed": false,
     "input": "pipeline2.f = 13.2\npipeline2.node_string = \"blop\"\npipeline2()",
     "language": "python",
     "metadata": {},
     "outputs": [
      {
       "output_type": "stream",
       "stream": "stdout",
       "text": "Process2 executuion, a: 0.0 , b: blop\nProcess1 execution, f: 13.2 , ff: 0.0 , out: 0.0\n"
      },
      {
       "metadata": {},
       "output_type": "pyout",
       "prompt_number": 8,
       "text": "<capsul.process.process.ProcessResult at 0x7f17fcfe1990>"
      }
     ],
     "prompt_number": 8
    },
    {
     "cell_type": "heading",
     "level": 2,
     "metadata": {},
     "source": "Switches"
    },
    {
     "cell_type": "code",
     "collapsed": false,
     "input": "class Pipeline3(Pipeline):\n    \n    def pipeline_definition(self):\n        # Create processes\n        self.add_process(\"node1\", Process1())\n        self.add_process(\"node2\", Process2())\n        self.add_switch(\"switch\", [\"case1\", \"case2\"], [\"output\"])\n        #links\n        self.add_link(\"node1.out->switch.case1_switch_output\")\n        self.add_link(\"node2.a->switch.case2_switch_output\")",
     "language": "python",
     "metadata": {},
     "outputs": [],
     "prompt_number": 9
    },
    {
     "cell_type": "code",
     "collapsed": false,
     "input": "pipeline3 = Pipeline3()\nview3 = PipelineDevelopperView(pipeline3, allow_open_controller=True, show_sub_pipelines=True)\nview3.show()\nif run_qt_loop:\n    app.exec_()",
     "language": "python",
     "metadata": {},
     "outputs": [],
     "prompt_number": 10
    },
    {
     "cell_type": "code",
     "collapsed": false,
     "input": "pipeline3.switch = \"case2\"\nview3.show()\nif run_qt_loop:\n    app.exec_()",
     "language": "python",
     "metadata": {},
     "outputs": [],
     "prompt_number": 11
    },
    {
     "cell_type": "code",
     "collapsed": false,
     "input": "pipeline3()",
     "language": "python",
     "metadata": {},
     "outputs": [
      {
       "output_type": "stream",
       "stream": "stdout",
       "text": "Process2 executuion, a: 0.0 , b: <undefined>\n"
      },
      {
       "metadata": {},
       "output_type": "pyout",
       "prompt_number": 12,
       "text": "<capsul.process.process.ProcessResult at 0x7f17fcfe1b10>"
      }
     ],
     "prompt_number": 12
    },
    {
     "cell_type": "heading",
     "level": 1,
     "metadata": {},
     "source": "StudyConfig"
    },
    {
     "cell_type": "code",
     "collapsed": false,
     "input": "from capsul.study_config import StudyConfig\n# optional config modules\nfrom capsul.study_config.config_modules.freesurfer_config import FreeSurferConfig\nfrom capsul.study_config.config_modules.brainvisa_config import BrainVISAConfig\n\ndefault_config = {\"use_soma_workflow\": True}\nstudy_config = StudyConfig(initial_config=default_config, \n                           modules=StudyConfig.default_modules + \\\n                           ['BrainVISAConfig', 'FSLConfig', 'FomConfig'])\n\n# inspect config options\nfor k in study_config.user_traits().keys(): print k, ':  ', getattr(study_config, k)",
     "language": "python",
     "metadata": {},
     "outputs": [
      {
       "output_type": "stream",
       "stream": "stdout",
       "text": "automatic_configuration :   False\ngenerate_logging :   False\ninput_directory :   <undefined>\noutput_directory :   <undefined>\nstudy_name :   None\nfsl_config :   <undefined>\nuse_fsl :   False\nuse_matlab :   False\nmatlab_exec :   <undefined>\nuse_smart_caching :   False\nuse_soma_workflow :   False\nsomaworkflow_computing_resource :   <undefined>\nsomaworkflow_computing_resources_config :   {}\nuse_spm :   False\nspm_standalone :   False\nspm_directory :   <undefined>\nspm_exec :   <undefined>\nshared_directory :   /volatile/riviere/brainvisa/build-trunk-release/share/brainvisa-share-4.5\nuse_fom :   True\ninput_fom :   \noutput_fom :   \nshared_fom :   \nvolumes_format :   <undefined>\nmeshes_format :   <undefined>\n"
      }
     ],
     "prompt_number": 13
    },
    {
     "cell_type": "heading",
     "level": 1,
     "metadata": {},
     "source": "Distributed execution using Soma-Workflow"
    },
    {
     "cell_type": "code",
     "collapsed": false,
     "input": "from capsul.pipeline.pipeline_workflow import workflow_from_pipeline\n\nworkflow = workflow_from_pipeline(pipeline2)\nprint 'jobs:', workflow.jobs\nprint 'dependencies:', workflow.dependencies",
     "language": "python",
     "metadata": {},
     "outputs": [
      {
       "output_type": "stream",
       "stream": "stdout",
       "text": "jobs: [<soma_workflow.client_types.Job object at 0x7f17f94dfcd0>, <soma_workflow.client_types.Job object at 0x7f17f97350d0>]\ndependencies: set([(<soma_workflow.client_types.Job object at 0x7f17f94dfcd0>, <soma_workflow.client_types.Job object at 0x7f17f97350d0>)])\n"
      }
     ],
     "prompt_number": 14
    },
    {
     "cell_type": "markdown",
     "metadata": {},
     "source": "The workwlow can be saved and reloaded in soma_workflow_gui, or used in a <a href=\"http://www.brainvisa.info/doc/soma-workflow/sphinx/client_API.html\">soma-workflow controller</a>:"
    },
    {
     "cell_type": "code",
     "collapsed": false,
     "input": "from soma_workflow import client as swclient\n\n# save workflow to disk in json format\nswclient.Helper.serialize('/tmp/pipeline2.workflow', workflow)\n\n# run locally via a workflow controller\nwc = swclient.WorkflowController()\nwf_id = wc.submit_workflow(workflow)\nswclient.Helper.wait_workflow(wf_id, wc)\nprint 'execution status:', wc.workflow_status(wf_id)\nwc.delete_workflow(wf_id)",
     "language": "python",
     "metadata": {},
     "outputs": [
      {
       "output_type": "stream",
       "stream": "stdout",
       "text": "execution status: "
      },
      {
       "output_type": "stream",
       "stream": "stdout",
       "text": "workflow_done\n"
      },
      {
       "metadata": {},
       "output_type": "pyout",
       "prompt_number": 15,
       "text": "True"
      }
     ],
     "prompt_number": 15
    },
    {
     "cell_type": "heading",
     "level": 1,
     "metadata": {},
     "source": "XML description for pipelines"
    },
    {
     "cell_type": "code",
     "collapsed": false,
     "input": "from capsul.utils import xml_to_pipeline\n\nxmlstr = '''<pipeline class_name=\"DemoPipeline\">\n    <docstring>A demo pipeline.\n    </docstring>\n    <processes>\n        <standard name=\"proc1\">\n            <module>capsul.pipeline.test.test_pipeline.DummyProcess</module>\n        </standard>\n        <standard name=\"proc2\">\n            <module>capsul.pipeline.test.test_pipeline.DummyProcess</module>\n        </standard>\n        <standard name=\"proc3\">\n            <module>capsul.pipeline.test.test_pipeline.DummyProcess</module>\n        </standard>\n        <standard name=\"proc4\">\n            <module>capsul.pipeline.test.test_pipeline.DummyProcess</module>\n        </standard>\n        <switch name=\"proc_select\" export_switch=\"0\">\n            <input>proc1</input>\n            <input>proc2</input>\n            <output>image</output>\n            <switch_value>proc1</switch_value>\n        </switch>\n        <switch name=\"proc_select2\" export_switch=\"0\">\n            <input>proc3</input>\n            <input>proc4</input>\n            <output>image</output>\n            <switch_value>proc3</switch_value>\n        </switch>\n    </processes>\n    <inputs>\n        <input name=\"input_image1\" dest=\"proc1.input_image\"></input>\n        <input name=\"input_image2\" dest=\"proc2.input_image\"></input>\n        <input name=\"proc_select\" dest=\"proc_select.switch\"></input>\n        <input name=\"proc_select2\" dest=\"proc_select2.switch\"></input>\n        <input name=\"input_image4\" dest=\"proc4.input_image\"></input>\n        <input name=\"input_image3\" dest=\"proc3.input_image\"></input>\n    </inputs>\n    <outputs>\n        <output name=\"image_out1\" src=\"proc_select.image\" weak_link=\"1\"></output>\n        <output name=\"image_out3\" src=\"proc3.output_image\" weak_link=\"1\"></output>\n        <output name=\"image_out5\" src=\"proc_select2.image\" weak_link=\"1\"></output>\n    </outputs>\n    <links>\n        <link src=\"input_image1\" dest=\"proc1.input_image\"></link>\n        <link src=\"input_image2\" dest=\"proc2.input_image\"></link>\n        <link src=\"proc_select\" dest=\"proc_select.switch\"></link>\n        <link src=\"proc_select2\" dest=\"proc_select2.switch\"></link>\n        <link src=\"input_image4\" dest=\"proc4.input_image\"></link>\n        <link src=\"input_image3\" dest=\"proc3.input_image\"></link>\n        <link src=\"proc1.output_image\" dest=\"proc_select.proc1_switch_image\"></link>\n        <link src=\"proc2.output_image\" dest=\"proc_select.proc2_switch_image\"></link>\n        <link src=\"proc3.output_image\" dest=\"proc_select2.proc3_switch_image\"></link>\n        <link src=\"proc4.output_image\" dest=\"proc_select2.proc4_switch_image\"></link>\n    </links>\n    <positions>\n        <position process=\"inputs\" x=\"-151.0\" y=\"227.4447\"></position>\n        <position process=\"proc_select\" x=\"381.6498\" y=\"160.1012\"></position>\n        <position process=\"outputs\" x=\"668.1498\" y=\"319.9886\"></position>\n        <position process=\"proc_select2\" x=\"381.6498\" y=\"507.1947\"></position>\n        <position process=\"proc4\" x=\"144.2624\" y=\"589.7949\"></position>\n        <position process=\"proc1\" x=\"123.2624\" y=\"-4.0\"></position>\n        <position process=\"proc3\" x=\"146.2624\" y=\"391.9886\"></position>\n        <position process=\"proc2\" x=\"132.2624\" y=\"171.8197\"></position>\n    </positions>\n</pipeline>'''\n\nopen('/tmp/demo_pipeline.xml', 'w').write(xmlstr)\n\nxml_to_pipeline.class_factory('/tmp/demo_pipeline.xml', globals())\npipeline_class = DemoPipeline\npipeline = DemoPipeline()\n",
     "language": "python",
     "metadata": {},
     "outputs": [],
     "prompt_number": 16
    },
    {
     "cell_type": "code",
     "collapsed": false,
     "input": "from capsul.qt_gui.widgets import PipelineDevelopperView\n\npv = PipelineDevelopperView(pipeline, allow_open_controller=True, show_sub_pipelines=True)\npv.show()\n\nif run_qt_loop:\n    app.exec_()\n",
     "language": "python",
     "metadata": {},
     "outputs": [],
     "prompt_number": 17
    },
    {
     "cell_type": "heading",
     "level": 1,
     "metadata": {},
     "source": "FOM (File Organization Model) definition"
    },
    {
     "cell_type": "code",
     "collapsed": false,
     "input": "fom_content = '''{\n    \"fom_name\": \"demo_fom\",\n\n    \"formats\": {\n        \"NIFTI\": \"nii\",\n        \"NIFTI gz\": \"nii.gz\"\n    },\n    \"format_lists\": {\n        \"images\": [\"NIFTI gz\", \"NIFTI\"]\n    },\n\n    \"shared_patterns\": {\n      \"subject\": \"<center>_<subject>\"\n    },\n\n    \"processes\": {\n        \"DemoPipeline\": {\n            \"input_image1\": \n                [[\"input:{subject}/<subject>\", \"images\"]],\n            \"input_image2\":\n                [[\"input:{subject}/alt2_<subject>\", \"images\"]],\n            \"input_image3\":\n                [[\"input:{subject}/alt2_<subject>\", \"images\"]],\n            \"input_image4\":\n                [[\"input:{subject}/alt4_<subject>\", \"images\"]],\n            \"image_out1\":\n                [[\"output:{subject}/out_image_<subject>_1\", \"images\"]],\n            \"image_out3\":\n                [[\"output:{subject}/out_image_<subject>_3\", \"images\"]]\n        },\n        \"DemoPipeline.proc4\": {\n            \"output_image\": [[\"output:{subject}/out_image_<subject>_4\", \"images\"]]\n        }\n    }\n\n}\n'''\n\nopen('/tmp/demo_fom.json', 'w').write(fom_content)\n",
     "language": "python",
     "metadata": {},
     "outputs": [],
     "prompt_number": 18
    },
    {
     "cell_type": "heading",
     "level": 1,
     "metadata": {},
     "source": "File names completion using FOM"
    },
    {
     "cell_type": "code",
     "collapsed": false,
     "input": "import sys\nimport os\nfrom capsul.study_config.study_config import StudyConfig\nfrom morphologist.process.customized.morphologist import CustomMorphologist\nfrom capsul.process import process_with_fom\nfrom capsul.qt_gui.controller_widget import ScrollControllerWidget\n\n# the following 4 lines are a hack to add /tmp to the FOM search path\n# before it is used by StudyConfig\nfrom soma.application import Application\nsoma_app = Application('capsul', plugin_modules=['soma.fom'])\nsoma_app.initialize()\nsoma_app.fom_manager.paths.append('/tmp')\n\nconfig = {\n  \"name\" : \"morphologist_fom\",\n  \"input_directory\" : \"/data/capsul_demo\",\n  \"output_directory\" : \"/data/capsul_demo\",\n  \"input_fom\" : \"demo_fom\",\n  \"output_fom\" : \"demo_fom\",\n  \"use_soma_workflow\" : True,\n  \"use_fom\" : True,\n  \"volumes_format\" : \"nii.gz\",\n  \"meshes_format\" : \"gii\",\n}\n\ndef callback():\n    pf.attributes = dict((k,getattr(pf,k)) for k in pf.user_traits())\n    pf.create_completion()\n    \n\nstudy_config = StudyConfig(init_config=config, modules=StudyConfig.default_modules + ['FomConfig', 'BrainVISAConfig'])\nsoma_app.fom_manager._cache = None # while debugging\n\nmp = DemoPipeline()\n\npf = process_with_fom.ProcessWithFom(mp, study_config)\npf.on_trait_change(callback)\npf.center = 'subjects'\npf.subject = 'irm2'\n\npf_view = ScrollControllerWidget(pf, live=True)\npf_view.show()\np_view = ScrollControllerWidget(pf.process, live=True)\np_view.show()\n\npv = PipelineDevelopperView(mp, allow_open_controller=True, show_sub_pipelines=True)\npv.show()\n\nif run_qt_loop:\n  app.exec_()\n",
     "language": "python",
     "metadata": {},
     "outputs": [
      {
       "ename": "KeyError",
       "evalue": "'demo_fom'",
       "output_type": "pyerr",
       "traceback": [
        "\u001b[0;31m---------------------------------------------------------------------------\u001b[0m\n\u001b[0;31mKeyError\u001b[0m                                  Traceback (most recent call last)",
        "\u001b[0;32m<ipython-input-19-067016e6c8db>\u001b[0m in \u001b[0;36m<module>\u001b[0;34m()\u001b[0m\n\u001b[1;32m     30\u001b[0m \u001b[0;34m\u001b[0m\u001b[0m\n\u001b[1;32m     31\u001b[0m \u001b[0;34m\u001b[0m\u001b[0m\n\u001b[0;32m---> 32\u001b[0;31m \u001b[0mstudy_config\u001b[0m \u001b[0;34m=\u001b[0m \u001b[0mStudyConfig\u001b[0m\u001b[0;34m(\u001b[0m\u001b[0minit_config\u001b[0m\u001b[0;34m=\u001b[0m\u001b[0mconfig\u001b[0m\u001b[0;34m,\u001b[0m \u001b[0mmodules\u001b[0m\u001b[0;34m=\u001b[0m\u001b[0mStudyConfig\u001b[0m\u001b[0;34m.\u001b[0m\u001b[0mdefault_modules\u001b[0m \u001b[0;34m+\u001b[0m \u001b[0;34m[\u001b[0m\u001b[0;34m'FomConfig'\u001b[0m\u001b[0;34m,\u001b[0m \u001b[0;34m'BrainVISAConfig'\u001b[0m\u001b[0;34m]\u001b[0m\u001b[0;34m)\u001b[0m\u001b[0;34m\u001b[0m\u001b[0m\n\u001b[0m\u001b[1;32m     33\u001b[0m \u001b[0msoma_app\u001b[0m\u001b[0;34m.\u001b[0m\u001b[0mfom_manager\u001b[0m\u001b[0;34m.\u001b[0m\u001b[0m_cache\u001b[0m \u001b[0;34m=\u001b[0m \u001b[0mNone\u001b[0m \u001b[0;31m# while debugging\u001b[0m\u001b[0;34m\u001b[0m\u001b[0m\n\u001b[1;32m     34\u001b[0m \u001b[0;34m\u001b[0m\u001b[0m\n",
        "\u001b[0;32m/volatile/riviere/neurosvn/capsul/trunk/capsul/study_config/study_config.pyc\u001b[0m in \u001b[0;36m__init__\u001b[0;34m(self, study_name, init_config, modules, **override_config)\u001b[0m\n\u001b[1;32m    166\u001b[0m         \u001b[0;32mfor\u001b[0m \u001b[0mk\u001b[0m\u001b[0;34m,\u001b[0m \u001b[0mv\u001b[0m \u001b[0;32min\u001b[0m \u001b[0mconfig\u001b[0m\u001b[0;34m.\u001b[0m\u001b[0miteritems\u001b[0m\u001b[0;34m(\u001b[0m\u001b[0;34m)\u001b[0m\u001b[0;34m:\u001b[0m\u001b[0;34m\u001b[0m\u001b[0m\n\u001b[1;32m    167\u001b[0m             \u001b[0msetattr\u001b[0m\u001b[0;34m(\u001b[0m\u001b[0mself\u001b[0m\u001b[0;34m,\u001b[0m \u001b[0mk\u001b[0m\u001b[0;34m,\u001b[0m \u001b[0mv\u001b[0m\u001b[0;34m)\u001b[0m\u001b[0;34m\u001b[0m\u001b[0m\n\u001b[0;32m--> 168\u001b[0;31m         \u001b[0mself\u001b[0m\u001b[0;34m.\u001b[0m\u001b[0minitialize_modules\u001b[0m\u001b[0;34m(\u001b[0m\u001b[0;34m)\u001b[0m\u001b[0;34m\u001b[0m\u001b[0m\n\u001b[0m\u001b[1;32m    169\u001b[0m \u001b[0;34m\u001b[0m\u001b[0m\n\u001b[1;32m    170\u001b[0m     \u001b[0;32mdef\u001b[0m \u001b[0minitialize_modules\u001b[0m\u001b[0;34m(\u001b[0m\u001b[0mself\u001b[0m\u001b[0;34m)\u001b[0m\u001b[0;34m:\u001b[0m\u001b[0;34m\u001b[0m\u001b[0m\n",
        "\u001b[0;32m/volatile/riviere/neurosvn/capsul/trunk/capsul/study_config/study_config.pyc\u001b[0m in \u001b[0;36minitialize_modules\u001b[0;34m(self)\u001b[0m\n\u001b[1;32m    195\u001b[0m                 \u001b[0;32mcontinue\u001b[0m\u001b[0;34m\u001b[0m\u001b[0m\n\u001b[1;32m    196\u001b[0m             \u001b[0;31m# Intitialize a module\u001b[0m\u001b[0;34m\u001b[0m\u001b[0;34m\u001b[0m\u001b[0m\n\u001b[0;32m--> 197\u001b[0;31m             \u001b[0mmodule\u001b[0m\u001b[0;34m.\u001b[0m\u001b[0minitialize_module\u001b[0m\u001b[0;34m(\u001b[0m\u001b[0;34m)\u001b[0m\u001b[0;34m\u001b[0m\u001b[0m\n\u001b[0m\u001b[1;32m    198\u001b[0m             \u001b[0mmodule\u001b[0m\u001b[0;34m.\u001b[0m\u001b[0minitialize_callbacks\u001b[0m\u001b[0;34m(\u001b[0m\u001b[0;34m)\u001b[0m\u001b[0;34m\u001b[0m\u001b[0m\n\u001b[1;32m    199\u001b[0m             \u001b[0malready_initialized\u001b[0m\u001b[0;34m.\u001b[0m\u001b[0madd\u001b[0m\u001b[0;34m(\u001b[0m\u001b[0mmodule_name\u001b[0m\u001b[0;34m)\u001b[0m\u001b[0;34m\u001b[0m\u001b[0m\n",
        "\u001b[0;32m/volatile/riviere/neurosvn/capsul/trunk/capsul/study_config/config_modules/fom_config.pyc\u001b[0m in \u001b[0;36minitialize_module\u001b[0;34m(self)\u001b[0m\n\u001b[1;32m     60\u001b[0m         \u001b[0;32mfor\u001b[0m \u001b[0mfom_type\u001b[0m\u001b[0;34m,\u001b[0m \u001b[0mfom_filename\u001b[0m \u001b[0;32min\u001b[0m \u001b[0mfoms\u001b[0m\u001b[0;34m:\u001b[0m\u001b[0;34m\u001b[0m\u001b[0m\n\u001b[1;32m     61\u001b[0m             \u001b[0;32mif\u001b[0m \u001b[0mfom_filename\u001b[0m \u001b[0;34m!=\u001b[0m \u001b[0;34m\"\"\u001b[0m\u001b[0;34m:\u001b[0m\u001b[0;34m\u001b[0m\u001b[0m\n\u001b[0;32m---> 62\u001b[0;31m                 \u001b[0mfom\u001b[0m \u001b[0;34m=\u001b[0m \u001b[0msoma_app\u001b[0m\u001b[0;34m.\u001b[0m\u001b[0mfom_manager\u001b[0m\u001b[0;34m.\u001b[0m\u001b[0mload_foms\u001b[0m\u001b[0;34m(\u001b[0m\u001b[0mfom_filename\u001b[0m\u001b[0;34m)\u001b[0m\u001b[0;34m\u001b[0m\u001b[0m\n\u001b[0m\u001b[1;32m     63\u001b[0m                 \u001b[0mself\u001b[0m\u001b[0;34m.\u001b[0m\u001b[0mstudy_config\u001b[0m\u001b[0;34m.\u001b[0m\u001b[0mmodules_data\u001b[0m\u001b[0;34m.\u001b[0m\u001b[0mfoms\u001b[0m\u001b[0;34m[\u001b[0m\u001b[0mfom_type\u001b[0m\u001b[0;34m]\u001b[0m \u001b[0;34m=\u001b[0m \u001b[0mfom\u001b[0m\u001b[0;34m\u001b[0m\u001b[0m\n\u001b[1;32m     64\u001b[0m \u001b[0;34m\u001b[0m\u001b[0m\n",
        "\u001b[0;32m/volatile/riviere/brainvisa/build-trunk-release/python/soma/fom.pyc\u001b[0m in \u001b[0;36mload_foms\u001b[0;34m(self, *names)\u001b[0m\n\u001b[1;32m    306\u001b[0m         \u001b[0mfoms\u001b[0m \u001b[0;34m=\u001b[0m \u001b[0mFileOrganizationModels\u001b[0m\u001b[0;34m(\u001b[0m\u001b[0;34m)\u001b[0m\u001b[0;34m\u001b[0m\u001b[0m\n\u001b[1;32m    307\u001b[0m         \u001b[0;32mfor\u001b[0m \u001b[0mname\u001b[0m \u001b[0;32min\u001b[0m \u001b[0mnames\u001b[0m\u001b[0;34m:\u001b[0m\u001b[0;34m\u001b[0m\u001b[0m\n\u001b[0;32m--> 308\u001b[0;31m             \u001b[0mfoms\u001b[0m\u001b[0;34m.\u001b[0m\u001b[0mimport_file\u001b[0m\u001b[0;34m(\u001b[0m\u001b[0mself\u001b[0m\u001b[0;34m.\u001b[0m\u001b[0m_cache\u001b[0m\u001b[0;34m[\u001b[0m\u001b[0mname\u001b[0m\u001b[0;34m]\u001b[0m\u001b[0;34m,\u001b[0m \u001b[0mfoms_manager\u001b[0m\u001b[0;34m=\u001b[0m\u001b[0mself\u001b[0m\u001b[0;34m)\u001b[0m\u001b[0;34m\u001b[0m\u001b[0m\n\u001b[0m\u001b[1;32m    309\u001b[0m         \u001b[0;32mreturn\u001b[0m \u001b[0mfoms\u001b[0m\u001b[0;34m\u001b[0m\u001b[0m\n\u001b[1;32m    310\u001b[0m \u001b[0;34m\u001b[0m\u001b[0m\n",
        "\u001b[0;31mKeyError\u001b[0m: 'demo_fom'"
       ]
      }
     ],
     "prompt_number": 19
    },
    {
     "cell_type": "markdown",
     "metadata": {},
     "source": "<p>Note how the output <tt>\"image_out5\"</tt> depends on the <b>proc_select2</b> switch value:</p>\n<p>While <tt>\"image_out1\"</tt> is fixed via the FOM completion, its value \"back-propagates\" to both <tt>\"proc1.output_image\"</tt> and <tt>\"proc2.output_image\"</tt>. For <tt>\"image_out5\"</tt> the FOM does not impose its value, it is deduced from either <tt>\"proc3.output_image\"</tt> (in turn set via the global <tt>\"image_out3\"</tt>) or <tt>\"proc4.output_image\"</tt>, depending on the <b>proc_select2</b> swtch value.</p>"
    },
    {
     "cell_type": "code",
     "collapsed": false,
     "input": "mp.proc_select2 = \"proc3\"\nprint \"switch proc_select2 value:\", mp.proc_select2\nprint \"output image_out5:\", mp.image_out5\nmp.proc_select2 = \"proc4\"\nprint \"switch proc_select2 value:\", mp.proc_select2\nprint \"output image_out5:\", mp.image_out5",
     "language": "python",
     "metadata": {},
     "outputs": [
      {
       "output_type": "stream",
       "stream": "stdout",
       "text": "switch proc_select2 value: proc3\noutput image_out5: /data/capsul_demo/subjects_irm2/out_image_irm2_3.nii.gz\nswitch proc_select2 value: proc4\noutput image_out5: /data/capsul_demo/subjects_irm2/out_image_irm2_4.nii.gz\n"
      }
     ],
     "prompt_number": 9
    },
    {
     "cell_type": "code",
     "collapsed": false,
     "input": "",
     "language": "python",
     "metadata": {},
     "outputs": []
    }
   ],
   "metadata": {}
  }
 ]
}