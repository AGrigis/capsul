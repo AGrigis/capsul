{
 "metadata": {
  "name": "",
  "signature": "sha256:7fc7ef25bebfc0d7926b1d05cbf0f826f73cb1c7b8680fb25e73430f1e2b5d45"
 },
 "nbformat": 3,
 "nbformat_minor": 0,
 "worksheets": [
  {
   "cells": [
    {
     "cell_type": "markdown",
     "metadata": {},
     "source": [
      "<h1>Capsul: Collaborative Analysis Platform : Simple, Unifying, Lean</h1>\n",
      "<div style=\"text-align: center\">Credit: Antoine Grigis</div>\n",
      "\n",
      "Capsul is a simple and efficient Python tool that aims to organize a set of processings.\n",
      "It is accessible to everybody, and is reusable in various contexts.\n",
      "The project is hosted on github: https://github.com/neurospin/capsul.<br><br>\n",
      "\n",
      "<big>Definitions</big>\n",
      "\n",
      "<ul style=\"list-style-type:disc;\">\n",
      "<li>A <b>Process</b> is a processing that can derived directly from a Python function and that can be used as a building block of a pipeline.</li>\n",
      "<li>A <b>Pipeline</b> is a serie of connected processes.</li>\n",
      "</ul><br>\n",
      "\n",
      "<big>First check</big>\n",
      "\n",
      "In order to test if capsul is installed on your machine, you can ask the Capsul version:"
     ]
    },
    {
     "cell_type": "code",
     "collapsed": false,
     "input": [
      "import capsul\n",
      "print capsul.__version__"
     ],
     "language": "python",
     "metadata": {},
     "outputs": [
      {
       "output_type": "stream",
       "stream": "stdout",
       "text": [
        "2.0.0\n"
       ]
      }
     ],
     "prompt_number": 1
    },
    {
     "cell_type": "markdown",
     "metadata": {},
     "source": [
      "<h2>Use a function as a building block</h2>\n",
      "\n",
      "It is possible to convert a function into a Process and thus use it as a building block of a pipeline:\n",
      "\n"
     ]
    },
    {
     "cell_type": "code",
     "collapsed": false,
     "input": [
      "import inspect\n",
      "from capsul.process.test.test_load_from_description import to_warp_func\n",
      "\n",
      "print \"\".join(inspect.getsourcelines(to_warp_func)[0])\n"
     ],
     "language": "python",
     "metadata": {},
     "outputs": [
      {
       "output_type": "stream",
       "stream": "stdout",
       "text": [
        "def to_warp_func(parameter1, parameter2, parameter3=5):\n",
        "    \"\"\" Test function.\n",
        "\n",
        "    <unit>\n",
        "        <input name=\"parameter2\" type=\"String\" description=\"a parameter.\"/>\n",
        "        <output name=\"output1\" type=\"Float\" description=\"an output.\"/>\n",
        "        <input name=\"parameter1\" type=\"List\" content=\"Float\" description=\"a parameter.\"/>\n",
        "        <input name=\"parameter3\" type=\"Float\" description=\"a parameter.\"/>\n",
        "        <output name=\"output2\" type=\"String\" description=\"an output.\"/>\n",
        "    </unit>\n",
        "    \"\"\"\n",
        "    output1 = parameter1[0] * parameter3\n",
        "    output2 = \"done\"\n",
        "    return output1, output2\n",
        "\n"
       ]
      }
     ],
     "prompt_number": 2
    },
    {
     "cell_type": "markdown",
     "metadata": {},
     "source": [
      "This is a pure Python function with a Process description in the docstring between the &lt;unit&gt;...&lt;/unit&gt; tags. Inside those tags, each output and input parameters are described (the order is not important). The parameters are typed and a description is asked in order to generate proper tooltips or documentations. First let execute this function:\n"
     ]
    },
    {
     "cell_type": "code",
     "collapsed": false,
     "input": [
      "to_warp_func([2.5,10],\"unused\")"
     ],
     "language": "python",
     "metadata": {},
     "outputs": [
      {
       "metadata": {},
       "output_type": "pyout",
       "prompt_number": 3,
       "text": [
        "(12.5, 'done')"
       ]
      }
     ],
     "prompt_number": 3
    },
    {
     "cell_type": "code",
     "collapsed": false,
     "input": [
      "to_warp_func([2.5,10],\"unused\", 10)"
     ],
     "language": "python",
     "metadata": {},
     "outputs": [
      {
       "metadata": {},
       "output_type": "pyout",
       "prompt_number": 4,
       "text": [
        "(25.0, 'done')"
       ]
      }
     ],
     "prompt_number": 4
    },
    {
     "cell_type": "markdown",
     "metadata": {},
     "source": [
      "Now we can create a process from this function and his docstring:"
     ]
    },
    {
     "cell_type": "code",
     "collapsed": false,
     "input": [
      "from capsul.process import get_process_instance\n",
      "\n",
      "funcprocess = get_process_instance(\"capsul.process.test.test_load_from_description.to_warp_func\")\n",
      "funcprocess.help()"
     ],
     "language": "python",
     "metadata": {},
     "outputs": [
      {
       "output_type": "stream",
       "stream": "stdout",
       "text": [
        "\n",
        " Test function.\n",
        "\n",
        "    \n",
        "\n",
        ".. note::\n",
        "\n",
        "    * Type 'ToWarpFunc.help()' for a full description of this process parameters.\n",
        "    * Type '<ToWarpFunc>.get_input_spec()' for a full description of this process input trait types.\n",
        "    * Type '<ToWarpFunc>.get_output_spec()' for a full description of this process output trait types.\n",
        "\n",
        "\n",
        "This process has been wrapped from capsul.process.test.test_load_from_description.to_warp_func.\n",
        "\n",
        "Inputs\n",
        "~~~~~~\n",
        "\n",
        "[Mandatory]\n",
        "\n",
        "parameter1: a legal value (['List_Float'] - mandatory)\n",
        "    a parameter.\n",
        "parameter2: a string (['String'] - mandatory)\n",
        "    a parameter.\n",
        "\n",
        "[Optional]\n",
        "\n",
        "parameter3: a float (['Float'] - optional)\n",
        "    a parameter.\n",
        "\n",
        "Outputs\n",
        "~~~~~~~\n",
        "\n",
        "output2: a string\n",
        "    an output.\n",
        "output1: a float\n",
        "    an output.\n",
        "\n"
       ]
      }
     ],
     "prompt_number": 5
    },
    {
     "cell_type": "markdown",
     "metadata": {},
     "source": [
      "We can parametrize and execute this process:"
     ]
    },
    {
     "cell_type": "code",
     "collapsed": false,
     "input": [
      "funcprocess.parameter1 = [2.5, 10]\n",
      "funcprocess()"
     ],
     "language": "python",
     "metadata": {},
     "outputs": [
      {
       "ename": "RuntimeError",
       "evalue": "Traceback (most recent call last):\n  File \"/home/ag239446/git/capsul/capsul/utils/function_to_process.py\", line 94, in f\n    exec expression in namespace\n  File \"<string>\", line 1, in <module>\nTypeError: to_warp_func() takes at least 2 arguments (2 given)\nFrom expression: output1, output2 = function(parameter1=parameter1, parameter3=parameter3). A mandatory parameter has probably not been initialized.",
       "output_type": "pyerr",
       "traceback": [
        "\u001b[1;31m---------------------------------------------------------------------------\u001b[0m\n\u001b[1;31mRuntimeError\u001b[0m                              Traceback (most recent call last)",
        "\u001b[1;32m<ipython-input-6-620f50c35a14>\u001b[0m in \u001b[0;36m<module>\u001b[1;34m()\u001b[0m\n\u001b[0;32m      1\u001b[0m \u001b[0mfuncprocess\u001b[0m\u001b[1;33m.\u001b[0m\u001b[0mparameter1\u001b[0m \u001b[1;33m=\u001b[0m \u001b[1;33m[\u001b[0m\u001b[1;36m2.5\u001b[0m\u001b[1;33m,\u001b[0m \u001b[1;36m10\u001b[0m\u001b[1;33m]\u001b[0m\u001b[1;33m\u001b[0m\u001b[0m\n\u001b[1;32m----> 2\u001b[1;33m \u001b[0mfuncprocess\u001b[0m\u001b[1;33m(\u001b[0m\u001b[1;33m)\u001b[0m\u001b[1;33m\u001b[0m\u001b[0m\n\u001b[0m",
        "\u001b[1;32m/home/ag239446/git/capsul/capsul/process/process.pyc\u001b[0m in \u001b[0;36m__call__\u001b[1;34m(self, **kwargs)\u001b[0m\n\u001b[0;32m    238\u001b[0m \u001b[1;33m\u001b[0m\u001b[0m\n\u001b[0;32m    239\u001b[0m         \u001b[1;31m# Execute the process\u001b[0m\u001b[1;33m\u001b[0m\u001b[1;33m\u001b[0m\u001b[0m\n\u001b[1;32m--> 240\u001b[1;33m         \u001b[0mreturncode\u001b[0m \u001b[1;33m=\u001b[0m \u001b[0mself\u001b[0m\u001b[1;33m.\u001b[0m\u001b[0m_run_process\u001b[0m\u001b[1;33m(\u001b[0m\u001b[1;33m)\u001b[0m\u001b[1;33m\u001b[0m\u001b[0m\n\u001b[0m\u001b[0;32m    241\u001b[0m \u001b[1;33m\u001b[0m\u001b[0m\n\u001b[0;32m    242\u001b[0m         \u001b[1;31m# Set the execution stop time in the execution report\u001b[0m\u001b[1;33m\u001b[0m\u001b[1;33m\u001b[0m\u001b[0m\n",
        "\u001b[1;32m/home/ag239446/git/capsul/capsul/utils/function_to_process.pyc\u001b[0m in \u001b[0;36m_run_process\u001b[1;34m(self)\u001b[0m\n\u001b[0;32m     99\u001b[0m                           \"been initialized.\")\n\u001b[0;32m    100\u001b[0m                 \u001b[1;32mraise\u001b[0m \u001b[0mRuntimeError\u001b[0m\u001b[1;33m(\u001b[0m\u001b[0merror\u001b[0m\u001b[1;33m)\u001b[0m\u001b[1;33m\u001b[0m\u001b[0m\n\u001b[1;32m--> 101\u001b[1;33m         \u001b[0mf\u001b[0m\u001b[1;33m(\u001b[0m\u001b[1;33m)\u001b[0m\u001b[1;33m\u001b[0m\u001b[0m\n\u001b[0m\u001b[0;32m    102\u001b[0m \u001b[1;33m\u001b[0m\u001b[0m\n\u001b[0;32m    103\u001b[0m         \u001b[1;31m# Update the user trait values\u001b[0m\u001b[1;33m\u001b[0m\u001b[1;33m\u001b[0m\u001b[0m\n",
        "\u001b[1;32m/home/ag239446/git/capsul/capsul/utils/function_to_process.pyc\u001b[0m in \u001b[0;36mf\u001b[1;34m()\u001b[0m\n\u001b[0;32m     98\u001b[0m                 error += (\"A mandatory parameter has probably not \"\n\u001b[0;32m     99\u001b[0m                           \"been initialized.\")\n\u001b[1;32m--> 100\u001b[1;33m                 \u001b[1;32mraise\u001b[0m \u001b[0mRuntimeError\u001b[0m\u001b[1;33m(\u001b[0m\u001b[0merror\u001b[0m\u001b[1;33m)\u001b[0m\u001b[1;33m\u001b[0m\u001b[0m\n\u001b[0m\u001b[0;32m    101\u001b[0m         \u001b[0mf\u001b[0m\u001b[1;33m(\u001b[0m\u001b[1;33m)\u001b[0m\u001b[1;33m\u001b[0m\u001b[0m\n\u001b[0;32m    102\u001b[0m \u001b[1;33m\u001b[0m\u001b[0m\n",
        "\u001b[1;31mRuntimeError\u001b[0m: Traceback (most recent call last):\n  File \"/home/ag239446/git/capsul/capsul/utils/function_to_process.py\", line 94, in f\n    exec expression in namespace\n  File \"<string>\", line 1, in <module>\nTypeError: to_warp_func() takes at least 2 arguments (2 given)\nFrom expression: output1, output2 = function(parameter1=parameter1, parameter3=parameter3). A mandatory parameter has probably not been initialized."
       ]
      }
     ],
     "prompt_number": 6
    },
    {
     "cell_type": "code",
     "collapsed": false,
     "input": [
      "funcprocess.parameter2 = [\"unused\"]\n",
      "funcprocess()\n",
      "funcprocess.output1, funcprocess.output2"
     ],
     "language": "python",
     "metadata": {},
     "outputs": [
      {
       "ename": "TraitError",
       "evalue": "The 'parameter2' trait of a ToWarpFunc instance must be a string, but a value of ['unused'] <type 'list'> was specified.",
       "output_type": "pyerr",
       "traceback": [
        "\u001b[1;31m---------------------------------------------------------------------------\u001b[0m\n\u001b[1;31mTraitError\u001b[0m                                Traceback (most recent call last)",
        "\u001b[1;32m<ipython-input-7-19ac710a925f>\u001b[0m in \u001b[0;36m<module>\u001b[1;34m()\u001b[0m\n\u001b[1;32m----> 1\u001b[1;33m \u001b[0mfuncprocess\u001b[0m\u001b[1;33m.\u001b[0m\u001b[0mparameter2\u001b[0m \u001b[1;33m=\u001b[0m \u001b[1;33m[\u001b[0m\u001b[1;34m\"unused\"\u001b[0m\u001b[1;33m]\u001b[0m\u001b[1;33m\u001b[0m\u001b[0m\n\u001b[0m\u001b[0;32m      2\u001b[0m \u001b[0mfuncprocess\u001b[0m\u001b[1;33m(\u001b[0m\u001b[1;33m)\u001b[0m\u001b[1;33m\u001b[0m\u001b[0m\n\u001b[0;32m      3\u001b[0m \u001b[0mfuncprocess\u001b[0m\u001b[1;33m.\u001b[0m\u001b[0moutput1\u001b[0m\u001b[1;33m,\u001b[0m \u001b[0mfuncprocess\u001b[0m\u001b[1;33m.\u001b[0m\u001b[0moutput2\u001b[0m\u001b[1;33m\u001b[0m\u001b[0m\n",
        "\u001b[1;32m/home/ag239446/git/capsul/capsul/utils/trait_utils.pyc\u001b[0m in \u001b[0;36mvalidate\u001b[1;34m(self, object, name, value)\u001b[0m\n\u001b[0;32m    537\u001b[0m             \u001b[1;32mif\u001b[0m \u001b[0mvalue\u001b[0m \u001b[1;32mis\u001b[0m \u001b[0mNone\u001b[0m\u001b[1;33m:\u001b[0m\u001b[1;33m\u001b[0m\u001b[0m\n\u001b[0;32m    538\u001b[0m                 \u001b[1;32mreturn\u001b[0m \u001b[0mvalue\u001b[0m\u001b[1;33m\u001b[0m\u001b[0m\n\u001b[1;32m--> 539\u001b[1;33m             \u001b[1;32mreturn\u001b[0m \u001b[0mself\u001b[0m\u001b[1;33m.\u001b[0m\u001b[0mvalidate_core\u001b[0m\u001b[1;33m(\u001b[0m\u001b[0mobject\u001b[0m\u001b[1;33m,\u001b[0m \u001b[0mname\u001b[0m\u001b[1;33m,\u001b[0m \u001b[0mvalue\u001b[0m\u001b[1;33m)\u001b[0m\u001b[1;33m\u001b[0m\u001b[0m\n\u001b[0m\u001b[0;32m    540\u001b[0m         \u001b[0mtrait\u001b[0m\u001b[1;33m.\u001b[0m\u001b[0mvalidate_core\u001b[0m \u001b[1;33m=\u001b[0m \u001b[0mtrait\u001b[0m\u001b[1;33m.\u001b[0m\u001b[0mvalidate\u001b[0m\u001b[1;33m\u001b[0m\u001b[0m\n\u001b[0;32m    541\u001b[0m         \u001b[1;32mif\u001b[0m \u001b[0mhasattr\u001b[0m\u001b[1;33m(\u001b[0m\u001b[0mtrait\u001b[0m\u001b[1;33m,\u001b[0m \u001b[1;34m\"fast_validate\"\u001b[0m\u001b[1;33m)\u001b[0m\u001b[1;33m:\u001b[0m\u001b[1;33m\u001b[0m\u001b[0m\n",
        "\u001b[1;32m/usr/lib/python2.7/dist-packages/traits/trait_types.py\u001b[0m in \u001b[0;36mvalidate\u001b[1;34m(self, object, name, value)\u001b[0m\n\u001b[0;32m    712\u001b[0m         \"\"\" Validates that the value is a valid string.\n\u001b[0;32m    713\u001b[0m         \"\"\"\n\u001b[1;32m--> 714\u001b[1;33m         \u001b[1;32mreturn\u001b[0m \u001b[0mgetattr\u001b[0m\u001b[1;33m(\u001b[0m \u001b[0mself\u001b[0m\u001b[1;33m,\u001b[0m \u001b[0mself\u001b[0m\u001b[1;33m.\u001b[0m\u001b[0m_validate\u001b[0m \u001b[1;33m)\u001b[0m\u001b[1;33m(\u001b[0m \u001b[0mobject\u001b[0m\u001b[1;33m,\u001b[0m \u001b[0mname\u001b[0m\u001b[1;33m,\u001b[0m \u001b[0mvalue\u001b[0m \u001b[1;33m)\u001b[0m\u001b[1;33m\u001b[0m\u001b[0m\n\u001b[0m\u001b[0;32m    715\u001b[0m \u001b[1;33m\u001b[0m\u001b[0m\n\u001b[0;32m    716\u001b[0m     \u001b[1;32mdef\u001b[0m \u001b[0mvalidate_all\u001b[0m \u001b[1;33m(\u001b[0m \u001b[0mself\u001b[0m\u001b[1;33m,\u001b[0m \u001b[0mobject\u001b[0m\u001b[1;33m,\u001b[0m \u001b[0mname\u001b[0m\u001b[1;33m,\u001b[0m \u001b[0mvalue\u001b[0m \u001b[1;33m)\u001b[0m\u001b[1;33m:\u001b[0m\u001b[1;33m\u001b[0m\u001b[0m\n",
        "\u001b[1;32m/usr/lib/python2.7/dist-packages/traits/trait_types.py\u001b[0m in \u001b[0;36mvalidate_str\u001b[1;34m(self, object, name, value)\u001b[0m\n\u001b[0;32m    736\u001b[0m             \u001b[1;32mpass\u001b[0m\u001b[1;33m\u001b[0m\u001b[0m\n\u001b[0;32m    737\u001b[0m \u001b[1;33m\u001b[0m\u001b[0m\n\u001b[1;32m--> 738\u001b[1;33m         \u001b[0mself\u001b[0m\u001b[1;33m.\u001b[0m\u001b[0merror\u001b[0m\u001b[1;33m(\u001b[0m \u001b[0mobject\u001b[0m\u001b[1;33m,\u001b[0m \u001b[0mname\u001b[0m\u001b[1;33m,\u001b[0m \u001b[0mvalue\u001b[0m \u001b[1;33m)\u001b[0m\u001b[1;33m\u001b[0m\u001b[0m\n\u001b[0m\u001b[0;32m    739\u001b[0m \u001b[1;33m\u001b[0m\u001b[0m\n\u001b[0;32m    740\u001b[0m     \u001b[1;32mdef\u001b[0m \u001b[0mvalidate_len\u001b[0m \u001b[1;33m(\u001b[0m \u001b[0mself\u001b[0m\u001b[1;33m,\u001b[0m \u001b[0mobject\u001b[0m\u001b[1;33m,\u001b[0m \u001b[0mname\u001b[0m\u001b[1;33m,\u001b[0m \u001b[0mvalue\u001b[0m \u001b[1;33m)\u001b[0m\u001b[1;33m:\u001b[0m\u001b[1;33m\u001b[0m\u001b[0m\n",
        "\u001b[1;32m/usr/lib/python2.7/dist-packages/traits/trait_handlers.py\u001b[0m in \u001b[0;36merror\u001b[1;34m(self, object, name, value)\u001b[0m\n\u001b[0;32m    168\u001b[0m         \"\"\"\n\u001b[0;32m    169\u001b[0m         raise TraitError( object, name, self.full_info( object, name, value ),\n\u001b[1;32m--> 170\u001b[1;33m                           value )\n\u001b[0m\u001b[0;32m    171\u001b[0m \u001b[1;33m\u001b[0m\u001b[0m\n\u001b[0;32m    172\u001b[0m     \u001b[1;32mdef\u001b[0m \u001b[0marg_error\u001b[0m \u001b[1;33m(\u001b[0m \u001b[0mself\u001b[0m\u001b[1;33m,\u001b[0m \u001b[0mmethod\u001b[0m\u001b[1;33m,\u001b[0m \u001b[0marg_num\u001b[0m\u001b[1;33m,\u001b[0m \u001b[0mobject\u001b[0m\u001b[1;33m,\u001b[0m \u001b[0mname\u001b[0m\u001b[1;33m,\u001b[0m \u001b[0mvalue\u001b[0m \u001b[1;33m)\u001b[0m\u001b[1;33m:\u001b[0m\u001b[1;33m\u001b[0m\u001b[0m\n",
        "\u001b[1;31mTraitError\u001b[0m: The 'parameter2' trait of a ToWarpFunc instance must be a string, but a value of ['unused'] <type 'list'> was specified."
       ]
      }
     ],
     "prompt_number": 7
    },
    {
     "cell_type": "code",
     "collapsed": false,
     "input": [
      "funcprocess.parameter2 = \"unused\"\n",
      "funcprocess()\n",
      "funcprocess.output1, funcprocess.output2"
     ],
     "language": "python",
     "metadata": {},
     "outputs": [
      {
       "metadata": {},
       "output_type": "pyout",
       "prompt_number": 8,
       "text": [
        "(12.5, 'done')"
       ]
      }
     ],
     "prompt_number": 8
    },
    {
     "cell_type": "code",
     "collapsed": false,
     "input": [
      "funcprocess.parameter3 = 10\n",
      "funcprocess()\n",
      "funcprocess.output1, funcprocess.output2"
     ],
     "language": "python",
     "metadata": {},
     "outputs": [
      {
       "metadata": {},
       "output_type": "pyout",
       "prompt_number": 9,
       "text": [
        "(25.0, 'done')"
       ]
      }
     ],
     "prompt_number": 9
    },
    {
     "cell_type": "markdown",
     "metadata": {},
     "source": [
      "<h2>Defining a Pipeline</h2>\n",
      "\n",
      "A pipeline can be described as an xml file. For the documentation of the description glossary, please refere to the capsul documentation. In the following examples we will use the 'pipeline.xml' and 'sub_pipeline' descriptions:"
     ]
    },
    {
     "cell_type": "code",
     "collapsed": false,
     "input": [
      "import os\n",
      "import capsul.demo as demo\n",
      "\n",
      "xmldesc = os.path.join(os.path.dirname(demo.__file__), \"pipeline.xml\")\n",
      "with open(xmldesc, \"r\") as openfile:\n",
      "    print \"\".join(openfile.readlines())"
     ],
     "language": "python",
     "metadata": {},
     "outputs": [
      {
       "output_type": "stream",
       "stream": "stdout",
       "text": [
        "<?xml version=\"1.0\" encoding=\"UTF-8\"?>\n",
        "<pipeline version=\"1.0\">\n",
        "    <docstring>\n",
        "        Auto Generated Pipeline Test\n",
        "    </docstring>\n",
        "    <units>\n",
        "        <unit name=\"p1\">\n",
        "            <module>capsul.process.test.test_load_from_description.to_warp_func</module>\n",
        "            <set name=\"parameter1\" value=\"[2.69]\"/>\n",
        "            <set name=\"output2\" value=\"None\"/>\n",
        "        </unit>\n",
        "        <unit name=\"p2\">\n",
        "            <module>capsul.process.test.test_load_from_description.to_warp_func</module>\n",
        "        </unit>\n",
        "    </units>\n",
        "    <links>\n",
        "        <link source=\"input1\" destination=\"p1.parameter1\"/>\n",
        "        <link source=\"input1\" destination=\"p2.parameter1\"/>\n",
        "        <link source=\"input2\" destination=\"p1.parameter2\"/>\n",
        "        <link source=\"input2\" destination=\"p2.parameter2\"/>\n",
        "        <link source=\"output1\" destination=\"p1.output1\"/>\n",
        "        <link source=\"output2\" destination=\"p2.output1\"/>\n",
        "        <link source=\"output3\" destination=\"p2.output2\"/>\n",
        "        <link source=\"p1.output1\" destination=\"p2.parameter3\"/>\n",
        "    </links>\n",
        "    <positions>\n",
        "        <position unit=\"inputs\" x=\"0\" y=\"0\"/>\n",
        "        <position unit=\"p1\" x=\"200\" y=\"200\"/>\n",
        "        <position unit=\"p2\" x=\"400\" y=\"-200\"/>\n",
        "        <position unit=\"outputs\" x=\"600\" y=\"0\"/>\n",
        "    </positions>\n",
        "    <zoom level=\"1\"/> \n",
        "</pipeline>\n",
        "\n"
       ]
      }
     ],
     "prompt_number": 10
    },
    {
     "cell_type": "markdown",
     "metadata": {},
     "source": [
      "Two building blocks are connected in this example. We will soon have a graphical representation of the pipeline, which in turn will clarify the xml sections. But first we must create a pipeline from this xml description:"
     ]
    },
    {
     "cell_type": "code",
     "collapsed": false,
     "input": [
      "from capsul.process import get_process_instance\n",
      "\n",
      "xmlpipe = get_process_instance(\"capsul.demo.pipeline.xml\")\n",
      "xmlpipe.help()"
     ],
     "language": "python",
     "metadata": {},
     "outputs": [
      {
       "output_type": "stream",
       "stream": "stdout",
       "text": [
        "\n",
        "\n",
        "        Auto Generated Pipeline Test\n",
        "    \n",
        "        \n",
        "        .. note::\n",
        "        \n",
        "            * Type 'Pipeline.help()' for a full description of this process parameters.\n",
        "            * Type '<Pipeline>.get_input_spec()' for a full description of this process input trait types.\n",
        "            * Type '<Pipeline>.get_output_spec()' for a full description of this process output trait types.\n",
        "        \n",
        "\n",
        "Inputs\n",
        "~~~~~~\n",
        "\n",
        "[Mandatory]\n",
        "\n",
        "input2: a string (['String'] - mandatory)\n",
        "    a parameter.\n",
        "input1: a legal value (['List_Float'] - mandatory)\n",
        "    a parameter.\n",
        "\n",
        "Outputs\n",
        "~~~~~~~\n",
        "\n",
        "output2: a float\n",
        "    an output.\n",
        "output3: a string\n",
        "    an output.\n",
        "output1: a float\n",
        "    an output.\n",
        "\n"
       ]
      }
     ],
     "prompt_number": 11
    },
    {
     "cell_type": "markdown",
     "metadata": {},
     "source": [
      "One major advantage of the capsul pipeline system is to be able to represent graphically the processing sequence:"
     ]
    },
    {
     "cell_type": "code",
     "collapsed": false,
     "input": [
      "import sys\n",
      "from PyQt4 import QtGui\n",
      "from capsul.qt_gui.widgets import PipelineDevelopperView\n",
      "\n",
      "app_created = False\n",
      "app = QtGui.QApplication.instance()\n",
      "if app is None:\n",
      "    app = QtGui.QApplication(sys.argv)\n",
      "    app_created = True\n",
      "view = PipelineDevelopperView(xmlpipe)\n",
      "view.show()\n",
      "if app_created:\n",
      "    app.exec_()"
     ],
     "language": "python",
     "metadata": {},
     "outputs": [],
     "prompt_number": 12
    },
    {
     "cell_type": "markdown",
     "metadata": {},
     "source": [
      "We can now execute this pipeline:"
     ]
    },
    {
     "cell_type": "code",
     "collapsed": false,
     "input": [
      "xmlpipe.input1 = [2.5, 10]\n",
      "xmlpipe.input2 = \"unused\"\n",
      "xmlpipe()\n",
      "xmlpipe.output1, xmlpipe.output2, xmlpipe.output3"
     ],
     "language": "python",
     "metadata": {},
     "outputs": [
      {
       "metadata": {},
       "output_type": "pyout",
       "prompt_number": 13,
       "text": [
        "(12.5, 31.25, 'done')"
       ]
      }
     ],
     "prompt_number": 13
    },
    {
     "cell_type": "markdown",
     "metadata": {},
     "source": [
      "<h2>A structure to switch between processings</h2>\n",
      "\n",
      "In Capsul it is possible to define a pipeline with a switch acting as a path selector. It is done with a switch section as follows:\n",
      "\n"
     ]
    },
    {
     "cell_type": "code",
     "collapsed": false,
     "input": [
      "import os\n",
      "import capsul.demo as demo\n",
      "\n",
      "xmldesc = os.path.join(os.path.dirname(demo.__file__), \"switch_pipeline.xml\")\n",
      "with open(xmldesc, \"r\") as openfile:\n",
      "    print \"\".join(openfile.readlines())"
     ],
     "language": "python",
     "metadata": {},
     "outputs": [
      {
       "output_type": "stream",
       "stream": "stdout",
       "text": [
        "<?xml version=\"1.0\" encoding=\"UTF-8\"?>\n",
        "<pipeline version=\"1.0\">\n",
        "    <docstring>\n",
        "        Auto Generated Switch Pipeline Test\n",
        "    </docstring>\n",
        "    <units>\n",
        "        <unit name=\"p1\">\n",
        "            <module>capsul.process.test.test_load_from_description.to_warp_func</module>\n",
        "            <set name=\"output2\" value=\"None\"/>\n",
        "        </unit>\n",
        "        <unit name=\"p2\">\n",
        "            <module>capsul.process.test.test_load_from_description.to_warp_func</module>\n",
        "            <set name=\"output2\" value=\"None\"/>\n",
        "        </unit>\n",
        "        <unit name=\"p3\">\n",
        "            <module>capsul.process.test.test_load_from_description.to_warp_func</module>\n",
        "            <set name=\"output2\" value=\"None\"/>\n",
        "        </unit>\n",
        "        <unit name=\"p4\">\n",
        "            <module>capsul.process.test.test_load_from_description.to_warp_func</module>\n",
        "            <set name=\"output2\" value=\"None\"/>\n",
        "        </unit>\n",
        "        <unit name=\"p5\">\n",
        "            <module>capsul.process.test.test_load_from_description.to_warp_func</module>\n",
        "            <set name=\"output2\" value=\"None\"/>\n",
        "        </unit>\n",
        "        <switch name=\"switch\">\n",
        "            <path name=\"path1\">\n",
        "                <unit name=\"p2\"/>\n",
        "                <unit name=\"p3\"/>\n",
        "            </path>\n",
        "            <path name=\"path2\">\n",
        "                <unit name=\"p4\"/>\n",
        "            </path>\n",
        "            <path name=\"path3\">\n",
        "            </path> \n",
        "        </switch>\n",
        "    </units>\n",
        "    <links>\n",
        "        <link source=\"input1\" destination=\"p1.parameter1\"/>\n",
        "        <link source=\"input1\" destination=\"p2.parameter1\"/>\n",
        "        <link source=\"input1\" destination=\"p3.parameter1\"/>\n",
        "        <link source=\"input1\" destination=\"p4.parameter1\"/>\n",
        "        <link source=\"input1\" destination=\"p5.parameter1\"/>\n",
        "        <link source=\"input2\" destination=\"p1.parameter2\"/>\n",
        "        <link source=\"p1.output2\" destination=\"p2.parameter2\"/>\n",
        "        <link source=\"p1.output2\" destination=\"p4.parameter2\"/>\n",
        "        <link source=\"p2.output2\" destination=\"p3.parameter2\"/>\n",
        "        <link source=\"p3.output2\" destination=\"p5.parameter2\"/>\n",
        "        <link source=\"p4.output2\" destination=\"p5.parameter2\"/>\n",
        "        <link source=\"p5.output1\" destination=\"output\"/>\n",
        "        <link source=\"p1.output1\" destination=\"p2.parameter3\"/>\n",
        "        <link source=\"p1.output1\" destination=\"p4.parameter3\"/>\n",
        "        <link source=\"p2.output1\" destination=\"p3.parameter3\"/>\n",
        "        <link source=\"p3.output1\" destination=\"p5.parameter3\"/>\n",
        "        <link source=\"p4.output1\" destination=\"p5.parameter3\"/>\n",
        "        <link source=\"p1.output1\" destination=\"p5.parameter3\"/>\n",
        "        <link source=\"p3.output2\" destination=\"output2\"/>\n",
        "        <link source=\"p4.output2\" destination=\"output2\"/>\n",
        "    </links>\n",
        "    <positions>\n",
        "        <position unit=\"inputs\" x=\"8\" y=\"282\"/>\n",
        "        <position unit=\"p1\" x=\"221\" y=\"280\"/>\n",
        "        <position unit=\"p2\" x=\"336\" y=\"58\"/>\n",
        "        <position unit=\"p3\" x=\"491\" y=\"60\"/>\n",
        "        <position unit=\"p4\" x=\"356\" y=\"485\"/>\n",
        "        <position unit=\"p5\" x=\"626\" y=\"307\"/>\n",
        "        <position unit=\"outputs\" x=\"793\" y=\"407\"/>\n",
        "    </positions>\n",
        "    <zoom level=\"0.75\"/> \n",
        "</pipeline>\n",
        "\n"
       ]
      }
     ],
     "prompt_number": 14
    },
    {
     "cell_type": "markdown",
     "metadata": {},
     "source": [
      "Again we can create a pipeline from the xml description:"
     ]
    },
    {
     "cell_type": "code",
     "collapsed": false,
     "input": [
      "from capsul.process import get_process_instance\n",
      "\n",
      "xmlpipe = get_process_instance(\"capsul.demo.switch_pipeline.xml\")\n",
      "xmlpipe.input1 = [2.5, 10]\n",
      "xmlpipe.input2 = \"unused\"\n",
      "xmlpipe.switch = \"path1\"\n",
      "xmlpipe.help()"
     ],
     "language": "python",
     "metadata": {},
     "outputs": [
      {
       "output_type": "stream",
       "stream": "stdout",
       "text": [
        "\n",
        "\n",
        "        Auto Generated Switch Pipeline Test\n",
        "    \n",
        "        \n",
        "        .. note::\n",
        "        \n",
        "            * Type 'SwitchPipeline.help()' for a full description of this process parameters.\n",
        "            * Type '<SwitchPipeline>.get_input_spec()' for a full description of this process input trait types.\n",
        "            * Type '<SwitchPipeline>.get_output_spec()' for a full description of this process output trait types.\n",
        "        \n",
        "\n",
        "Inputs\n",
        "~~~~~~\n",
        "\n",
        "[Mandatory]\n",
        "\n",
        "input2: a string (['String'] - mandatory)\n",
        "    a parameter.\n",
        "input1: a legal value (['List_Float'] - mandatory)\n",
        "    a parameter.\n",
        "\n",
        "[Optional]\n",
        "\n",
        "switch: a legal value (['Enum'] - optional)\n",
        "    No description.\n",
        "\n",
        "Outputs\n",
        "~~~~~~~\n",
        "\n",
        "output2: a string\n",
        "    an output.\n",
        "output: a float\n",
        "    an output.\n",
        "\n"
       ]
      }
     ],
     "prompt_number": 15
    },
    {
     "cell_type": "markdown",
     "metadata": {},
     "source": [
      "And generate his graphical representation:"
     ]
    },
    {
     "cell_type": "code",
     "collapsed": false,
     "input": [
      "import sys\n",
      "from PyQt4 import QtGui\n",
      "from capsul.qt_gui.widgets import PipelineDevelopperView\n",
      "\n",
      "if \"app_created\" not in globals():\n",
      "    app_created = False\n",
      "app = QtGui.QApplication.instance()\n",
      "if app is None:\n",
      "    app = QtGui.QApplication(sys.argv)\n",
      "    app_created = True\n",
      "view = PipelineDevelopperView(xmlpipe)\n",
      "view.show()\n",
      "if app_created:\n",
      "    app.exec_()"
     ],
     "language": "python",
     "metadata": {},
     "outputs": [],
     "prompt_number": 18
    },
    {
     "cell_type": "code",
     "collapsed": false,
     "input": [
      "xmlpipe.switch = \"path2\"\n",
      "view = PipelineDevelopperView(xmlpipe)\n",
      "view.show()"
     ],
     "language": "python",
     "metadata": {},
     "outputs": [],
     "prompt_number": 19
    },
    {
     "cell_type": "code",
     "collapsed": false,
     "input": [
      "xmlpipe.switch = \"path3\"\n",
      "view = PipelineDevelopperView(xmlpipe)\n",
      "view.show()"
     ],
     "language": "python",
     "metadata": {},
     "outputs": [],
     "prompt_number": 20
    },
    {
     "cell_type": "markdown",
     "metadata": {},
     "source": [
      "<h2>Iterate automatically</h2>\n",
      "\n",
      "It is possible to declare an iterative pipeline from a standard pipeline. The created pipeline will then iterate on the iterative inputs and collect the iterative outputs insuring that the non iterative outputs return the same values (map reduce):"
     ]
    },
    {
     "cell_type": "code",
     "collapsed": false,
     "input": [
      "import os\n",
      "import capsul.demo as demo\n",
      "\n",
      "xmldesc = os.path.join(os.path.dirname(demo.__file__), \"iter_pipeline.xml\")\n",
      "with open(xmldesc, \"r\") as openfile:\n",
      "    print \"\".join(openfile.readlines())"
     ],
     "language": "python",
     "metadata": {},
     "outputs": [
      {
       "output_type": "stream",
       "stream": "stdout",
       "text": [
        "<?xml version=\"1.0\" encoding=\"UTF-8\"?>\n",
        "<pipeline version=\"1.0\">\n",
        "    <docstring>\n",
        "        Auto Generated Switch Pipeline Test\n",
        "    </docstring>\n",
        "    <units>\n",
        "        <unit name=\"p1\">\n",
        "            <module>capsul.process.test.test_load_from_description.to_warp_func</module>\n",
        "            <set name=\"output2\" value=\"None\"/>\n",
        "            <iterinput name=\"parameter2\"/>\n",
        "            <iterinput name=\"parameter1\"/>\n",
        "            <iteroutput name=\"output1\"/>\n",
        "        </unit>\n",
        "        <unit name=\"p2\">\n",
        "            <module>capsul.process.test.test_load_from_description.to_warp_func</module>\n",
        "            <set name=\"parameter2\" value=\"'constant'\"/>\n",
        "            <set name=\"output2\" value=\"None\"/>\n",
        "        </unit>\n",
        "        <unit name=\"p3\">\n",
        "            <module>capsul.demo.pipeline.xml</module>\n",
        "            <set name=\"input2\" value=\"'optional'\"/>\n",
        "            <set name=\"iteroutput1\" value=\"None\"/>\n",
        "            <set name=\"output3\" value=\"None\"/>\n",
        "            <iterinput name=\"input1\"/>\n",
        "            <iteroutput name=\"output1\"/>\n",
        "            <iteroutput name=\"output2\"/>\n",
        "        </unit>\n",
        "    </units>\n",
        "    <links>\n",
        "        <link source=\"input2\" destination=\"p1.iterparameter2\"/>\n",
        "        <link source=\"input1\" destination=\"p1.iterparameter1\"/>\n",
        "        <link source=\"input1\" destination=\"p3.iterinput1\"/>\n",
        "        <link source=\"constant\" destination=\"p1.parameter3\"/>\n",
        "        <link source=\"p1.iteroutput1\" destination=\"p2.parameter1\"/>\n",
        "        <link source=\"p2.output1\" destination=\"output1\"/>\n",
        "        <link source=\"p3.iteroutput2\" destination=\"output2\"/>\n",
        "    </links>\n",
        "    <positions>\n",
        "        <position unit=\"inputs\" x=\"24\" y=\"172\"/>\n",
        "        <position unit=\"p1\" x=\"223\" y=\"172\"/>\n",
        "        <position unit=\"p2\" x=\"411\" y=\"246\"/>\n",
        "        <position unit=\"p3\" x=\"224\" y=\"342\"/>\n",
        "        <position unit=\"outputs\" x=\"590\" y=\"347\"/>\n",
        "    </positions>\n",
        "    <zoom level=\"1\"/> \n",
        "</pipeline>\n",
        "\n"
       ]
      }
     ],
     "prompt_number": 21
    },
    {
     "cell_type": "markdown",
     "metadata": {},
     "source": [
      "We can generate his graphical representation and execute the iterative pipeline:"
     ]
    },
    {
     "cell_type": "code",
     "collapsed": false,
     "input": [
      "import sys\n",
      "from PyQt4 import QtGui\n",
      "from capsul.qt_gui.widgets import PipelineDevelopperView\n",
      "from capsul.process import get_process_instance\n",
      "\n",
      "xmlpipe = get_process_instance(\"capsul.demo.iter_pipeline.xml\")\n",
      "xmlpipe.input1 = [[2.5, 10], [4, 10]]\n",
      "xmlpipe.input2 = [\"unused\", \"unused\"]\n",
      "xmlpipe.constant = 10\n",
      "xmlpipe.help()\n",
      "\n",
      "if \"app_created\" not in globals():\n",
      "    app_created = False\n",
      "app = QtGui.QApplication.instance()\n",
      "if app is None:\n",
      "    app = QtGui.QApplication(sys.argv)\n",
      "    app_created = True\n",
      "view = PipelineDevelopperView(xmlpipe)\n",
      "view.show()\n",
      "if app_created:\n",
      "    app.exec_()\n",
      "    \n",
      "xmlpipe()\n",
      "xmlpipe.nodes[\"p1\"].process.iteroutput1, xmlpipe.output1, xmlpipe.output2"
     ],
     "language": "python",
     "metadata": {},
     "outputs": [
      {
       "output_type": "stream",
       "stream": "stdout",
       "text": [
        "\n",
        "\n",
        "        Auto Generated Switch Pipeline Test\n",
        "    \n",
        "        \n",
        "        .. note::\n",
        "        \n",
        "            * Type 'IterPipeline.help()' for a full description of this process parameters.\n",
        "            * Type '<IterPipeline>.get_input_spec()' for a full description of this process input trait types.\n",
        "            * Type '<IterPipeline>.get_output_spec()' for a full description of this process output trait types.\n",
        "        \n",
        "\n",
        "Inputs\n",
        "~~~~~~\n",
        "\n",
        "[Mandatory]\n",
        "\n",
        "input2: a legal value (['List_String'] - mandatory)\n",
        "    a parameter.\n",
        "input1: a legal value (['List_List_Float'] - mandatory)\n",
        "    a parameter.\n",
        "\n",
        "[Optional]\n",
        "\n",
        "constant: a float (['Float'] - optional)\n",
        "    a parameter.\n",
        "\n",
        "Outputs\n",
        "~~~~~~~\n",
        "\n",
        "output2: a legal value\n",
        "    an output.\n",
        "output1: a float\n",
        "    an output.\n",
        "\n"
       ]
      },
      {
       "metadata": {},
       "output_type": "pyout",
       "prompt_number": 22,
       "text": [
        "([25.0, 40.0], 125.0, [31.25, 80.0])"
       ]
      }
     ],
     "prompt_number": 22
    },
    {
     "cell_type": "markdown",
     "metadata": {},
     "source": [
      "<h2>Use Nipype in Capsul</h2>\n",
      "\n",
      "It is possible to use all the nipype interfaces (FSL, SPM, FreeSurfer, ...) as building blocks in Capsul. This step requires nipype to be properly installed as well as the software we want to use. For instance if we want to perform a brain extraction with FSL we can simply write:"
     ]
    },
    {
     "cell_type": "code",
     "collapsed": false,
     "input": [
      "from capsul.process import get_process_instance\n",
      "\n",
      "betpipe = get_process_instance(\"nipype.interfaces.fsl.BET\")\n",
      "betpipe.get_help()\n",
      "betpipe.in_file=\"/usr/share/fsl/data/standard/MNI152_T1_2mm.nii.gz\""
     ],
     "language": "python",
     "metadata": {},
     "outputs": [
      {
       "output_type": "stream",
       "stream": "stdout",
       "text": [
        "\n",
        " Base class used to wrap nipype interfaces.\n",
        "    \n",
        "\n",
        ".. note::\n",
        "\n",
        "    * Type 'NipypeProcess.help()' for a full description of this process parameters.\n",
        "    * Type '<NipypeProcess>.get_input_spec()' for a full description of this process input trait types.\n",
        "    * Type '<NipypeProcess>.get_output_spec()' for a full description of this process output trait types.\n",
        "\n",
        "\n",
        "Inputs\n",
        "~~~~~~\n",
        "\n",
        "[Mandatory]\n",
        "\n",
        "terminal_output: a legal value (['Enum'] - mandatory)\n",
        "    Control terminal output: `stream` - displays to terminal\n",
        "    immediately, `allatonce` - waits till command is finished to\n",
        "    display output, `file` - writes output to file, `none` - output is\n",
        "    ignored\n",
        "in_file: a file name (['File'] - mandatory)\n",
        "    input file to skull strip\n",
        "\n",
        "[Optional]\n",
        "\n",
        "remove_eyes: a boolean (['Bool'] - optional)\n",
        "    eye & optic nerve cleanup (can be useful in SIENA)\n",
        "no_output: a boolean (['Bool'] - optional)\n",
        "    Don't generate segmented output\n",
        "functional: a boolean (['Bool'] - optional)\n",
        "    apply to 4D fMRI data\n",
        "radius: an integer (['Int'] - optional)\n",
        "    head radius\n",
        "threshold: a boolean (['Bool'] - optional)\n",
        "    apply thresholding to segmented brain image and mask\n",
        "vertical_gradient: a float (['Float'] - optional)\n",
        "    vertical gradient in fractional intensity threshold (-1, 1)\n",
        "center: a legal value (['List_Int'] - optional)\n",
        "    center of gravity in voxels\n",
        "t2_guided: a file name (['File'] - optional)\n",
        "    as with creating surfaces, when also feeding in non-brain-\n",
        "    extracted T2 (includes registrations)\n",
        "ignore_exception: a boolean (['Bool'] - optional)\n",
        "    Print an error message instead of throwing an exception in case\n",
        "    the interface fails to run\n",
        "surfaces: a boolean (['Bool'] - optional)\n",
        "    run bet2 and then betsurf to get additional skull and scalp\n",
        "    surfaces (includes registrations)\n",
        "frac: a float (['Float'] - optional)\n",
        "    fractional intensity threshold\n",
        "reduce_bias: a boolean (['Bool'] - optional)\n",
        "    bias field and neck cleanup\n",
        "args: a string (['Str'] - optional)\n",
        "    Additional parameters to the command\n",
        "output_directory: a directory name (['Directory'] - optional)\n",
        "    No description.\n",
        "padding: a boolean (['Bool'] - optional)\n",
        "    improve BET if FOV is very small in Z (by temporarily padding end\n",
        "    slices)\n",
        "mesh: a boolean (['Bool'] - optional)\n",
        "    generate a vtk mesh brain surface\n",
        "robust: a boolean (['Bool'] - optional)\n",
        "    robust brain centre estimation (iterates BET several times)\n",
        "outline: a boolean (['Bool'] - optional)\n",
        "    create surface outline image\n",
        "out_file: a file name (['File'] - optional)\n",
        "    name of output skull stripped image\n",
        "skull: a boolean (['Bool'] - optional)\n",
        "    create skull image\n",
        "mask: a boolean (['Bool'] - optional)\n",
        "    create binary mask image\n",
        "environ: a legal value (['Dict_Str_Str'] - optional)\n",
        "    Environment variables\n",
        "output_type: a legal value (['Enum'] - optional)\n",
        "    FSL output type\n",
        "\n",
        "Outputs\n",
        "~~~~~~~\n",
        "\n",
        "_outskull_mesh_file: a file name\n",
        "    path/name of outskull mesh outline (if generated)\n",
        "_outskin_mesh_file: a file name\n",
        "    path/name of outskin mesh outline (if generated)\n",
        "_skull_mask_file: a file name\n",
        "    path/name of skull mask (if generated)\n",
        "_inskull_mask_file: a file name\n",
        "    path/name of inskull mask (if generated)\n",
        "_outskull_mask_file: a file name\n",
        "    path/name of outskull mask (if generated)\n",
        "_out_file: a file name\n",
        "    path/name of skullstripped file (if generated)\n",
        "_outline_file: a file name\n",
        "    path/name of outline file (if generated)\n",
        "_inskull_mesh_file: a file name\n",
        "    path/name of inskull mesh outline (if generated)\n",
        "_outskin_mask_file: a file name\n",
        "    path/name of outskin mask (if generated)\n",
        "_meshfile: a file name\n",
        "    path/name of vtk mesh file (if generated)\n",
        "_mask_file: a file name\n",
        "    path/name of binary brain mask (if generated)\n",
        "\n"
       ]
      },
      {
       "output_type": "stream",
       "stream": "stderr",
       "text": [
        "/home/ag239446/.local/lib/python2.7/site-packages/nipype/interfaces/fsl/base.py:118: UserWarning: FSL environment variables not set. setting output type to NIFTI\n",
        "  warnings.warn(('FSL environment variables not set. setting output '\n"
       ]
      }
     ],
     "prompt_number": 23
    },
    {
     "cell_type": "markdown",
     "metadata": {},
     "source": [
      "As shown it is possible to set the BET algorithm input parameters. Note that in capsul the standard nipype outputs are prefixed with underscores. We can execute this Process but unfortunatelly, as mentioned by the nipype warnings, FSL has not been configured and the BET algorithm will not run. The following section shows a simplified way to configure external softwares in Capsul."
     ]
    },
    {
     "cell_type": "markdown",
     "metadata": {},
     "source": [
      "<h2>A helper to configure state of the art medical softwares</h2>\n",
      "\n",
      "Capsul propose a module to configure external softwares:\n",
      "\n",
      "<ul style=\"list-style-type:disc;\">\n",
      "<li>FSL</li>\n",
      "<li>SPM</li>\n",
      "<li>FreeSurfer</li>\n",
      "<li>BrainVisa</li>\n",
      "</ul>\n",
      "\n",
      "With this module it is also possible to configure the execution of the pipeline:\n",
      "\n",
      "<ul style=\"list-style-type:disc;\">\n",
      "<li>Use smart caching</li>\n",
      "<li>Generate some logging</li>\n",
      "<li>Soma-Worflow to handle population imaging</li>\n",
      "<li>The number of CPUs to be used</li>\n",
      "</ul>\n",
      "\n",
      "Let show how to configure FSL:"
     ]
    },
    {
     "cell_type": "code",
     "collapsed": false,
     "input": [
      "from capsul.study_config import StudyConfig\n",
      "\n",
      "study_config = StudyConfig(\n",
      "    modules=[\"FSLConfig\"],\n",
      "    fsl_config=\"/etc/fsl/4.1/fsl.sh\",\n",
      "    use_fsl=True,\n",
      "    generate_logging=True,\n",
      "    output_directory=\"/neurospin/tmp/agrigis/demo/fsl\")\n",
      "print study_config.run.__doc__"
     ],
     "language": "python",
     "metadata": {},
     "outputs": [
      {
       "output_type": "stream",
       "stream": "stdout",
       "text": [
        " Method to execute a process or a pipline in a study configuration\n",
        "         environment.\n",
        "\n",
        "         Only pipeline nodes can be filtered on the 'executer_qc_nodes'\n",
        "         attribute.\n",
        "\n",
        "         A valid output directory is exepcted to execute the process or the\n",
        "         pepeline without soma-workflow.\n",
        "\n",
        "        Parameters\n",
        "        ----------\n",
        "        process_or_pipeline: Process or Pipeline instance (mandatory)\n",
        "            the process or pipeline we want to execute\n",
        "        execute_qc_nodes: bool (optional, default False)\n",
        "            if True execute process nodes that are taged as qualtity control\n",
        "            process nodes.\n",
        "        verbose: int\n",
        "            if different from zero, print console messages.\n",
        "        \n"
       ]
      }
     ],
     "prompt_number": 24
    },
    {
     "cell_type": "markdown",
     "metadata": {},
     "source": [
      "<h2>Execution of the pipeline</h2>\n",
      "\n",
      "In this section a simple execution is performed on your machine using one CPU. To do so we just have to call the StudyConfig run method:"
     ]
    },
    {
     "cell_type": "code",
     "collapsed": false,
     "input": [
      "study_config.run(betpipe, verbose=1)"
     ],
     "language": "python",
     "metadata": {},
     "outputs": [
      {
       "output_type": "stream",
       "stream": "stdout",
       "text": [
        "________________________________________________________________________________\n",
        "[Process] Calling nipype.interfaces.fsl.preprocess.BET...\n",
        "nipype.interfaces.fsl.preprocess.BET(ignore_exception=False, output_directory='/neurospin/tmp/agrigis/demo/fsl/1-BET', terminal_output='stream', environ={'FSLOUTPUTTYPE': 'NIFTI'}, in_file='/usr/share/fsl/data/standard/MNI152_T1_2mm.nii.gz', output_type='NIFTI')\n",
        "____________________________________________________________________2.3s, 0.0min"
       ]
      },
      {
       "output_type": "stream",
       "stream": "stdout",
       "text": [
        "\n"
       ]
      }
     ],
     "prompt_number": 25
    },
    {
     "cell_type": "markdown",
     "metadata": {},
     "source": [
      "<h2>Distributed execution top handle population imaging</h2>\n",
      "\n",
      "Capsul can execute a pipeline through Soma-Workflow in order to address huge datasets on the cluster or through a local scheduler:"
     ]
    },
    {
     "cell_type": "code",
     "collapsed": false,
     "input": [
      "xmlpipe = get_process_instance(\"capsul.demo.iter_pipeline.xml\")\n",
      "xmlpipe.input1 = [[2.5, 10], [4, 10]]\n",
      "xmlpipe.input2 = [\"unused\", \"unused\"]\n",
      "xmlpipe.constant = 10\n",
      "\n",
      "study_config = StudyConfig(\n",
      "    modules=[],\n",
      "    generate_logging=True,\n",
      "    use_scheduler=True,\n",
      "    nb_cpus=4,\n",
      "    output_directory=\"/neurospin/tmp/agrigis/demo/scheduler\")\n",
      "\n",
      "study_config.run(xmlpipe)\n",
      "xmlpipe.nodes[\"p1\"].process.iteroutput1, xmlpipe.output1, xmlpipe.output2"
     ],
     "language": "python",
     "metadata": {},
     "outputs": [
      {
       "output_type": "stream",
       "stream": "stdout",
       "text": [
        "________________________________________________________________________________\n",
        "[Process] Calling capsul.process.test.test_load_from_description.ToWarpFunc...\n",
        "capsul.process.test.test_load_from_description.ToWarpFunc(parameter1=[4.0, 10.0], parameter3=5.0, parameter2='optional')\n",
        "____________________________________________________________________0.0s, 0.0min\n",
        "________________________________________________________________________________\n",
        "[Process] Calling capsul.process.test.test_load_from_description.ToWarpFunc...\n",
        "capsul.process.test.test_load_from_description.ToWarpFunc(parameter1=[2.5, 10.0], parameter3=5.0, parameter2='optional')\n",
        "____________________________________________________________________0.0s, 0.0min\n",
        "________________________________________________________________________________\n",
        "[Process] Calling capsul.process.test.test_load_from_description.ToWarpFunc...\n",
        "capsul.process.test.test_load_from_description.ToWarpFunc(parameter1=[4.0, 10.0], parameter3=20.0, parameter2='optional')\n",
        "____________________________________________________________________0.0s, 0.0min\n",
        "________________________________________________________________________________\n",
        "[Process] Calling capsul.process.test.test_load_from_description.ToWarpFunc...\n",
        "capsul.process.test.test_load_from_description.ToWarpFunc(parameter1=[2.5, 10.0], parameter3=12.5, parameter2='optional')\n",
        "____________________________________________________________________0.0s, 0.0min\n",
        "________________________________________________________________________________\n",
        "[Process] Calling capsul.process.test.test_load_from_description.ToWarpFunc...\n",
        "capsul.process.test.test_load_from_description.ToWarpFunc(parameter1=[4.0, 10.0], parameter3=10.0, parameter2='unused')\n",
        "____________________________________________________________________0.0s, 0.0min\n",
        "________________________________________________________________________________\n",
        "[Process] Calling capsul.process.test.test_load_from_description.ToWarpFunc...\n",
        "capsul.process.test.test_load_from_description.ToWarpFunc(parameter1=[2.5, 10.0], parameter3=10.0, parameter2='unused')\n",
        "____________________________________________________________________0.0s, 0.0min\n",
        "________________________________________________________________________________\n",
        "[Process] Calling capsul.process.test.test_load_from_description.ToWarpFunc...\n",
        "capsul.process.test.test_load_from_description.ToWarpFunc(parameter1=[25.0, 40.0], parameter3=5.0, parameter2='constant')\n",
        "____________________________________________________________________0.0s, 0.0min\n"
       ]
      },
      {
       "metadata": {},
       "output_type": "pyout",
       "prompt_number": 26,
       "text": [
        "([25.0, 40.0], 125.0, [31.25, 80.0])"
       ]
      }
     ],
     "prompt_number": 26
    }
   ],
   "metadata": {}
  }
 ]
}